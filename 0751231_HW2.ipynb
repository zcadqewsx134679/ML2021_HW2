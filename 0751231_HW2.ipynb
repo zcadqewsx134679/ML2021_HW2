{
 "cells": [
  {
   "cell_type": "code",
   "execution_count": 1,
   "metadata": {},
   "outputs": [],
   "source": [
    "import numpy as np\n",
    "import matplotlib.pyplot as plt \n",
    "import pandas as pd \n",
    "import sympy \n",
    "import random \n",
    "import math\n",
    "from sklearn.metrics import mean_squared_error"
   ]
  },
  {
   "cell_type": "code",
   "execution_count": 2,
   "metadata": {},
   "outputs": [],
   "source": [
    "#定義目標函數\n",
    "def target_function(x):\n",
    "    \n",
    "    x = x%(2*math.pi)\n",
    "    \n",
    "    if x < math.pi:\n",
    "        y = 1\n",
    "    else:\n",
    "        y = -1\n",
    "    \n",
    "    return y"
   ]
  },
  {
   "cell_type": "code",
   "execution_count": 3,
   "metadata": {},
   "outputs": [],
   "source": [
    "#定義近似函數\n",
    "def approximation_function(x,a,b,N):\n",
    "    sum = 0\n",
    "    for n in range(1,N+1):\n",
    "        sum += a[n]*math.cos(n*x)+b[n]*math.sin(n*x)\n",
    "\n",
    "    y = a[0] + sum\n",
    "    return y\n",
    "\n",
    "def E(y_train,y_predict):\n",
    "    return (y_train - y_predict)**2/2"
   ]
  },
  {
   "cell_type": "code",
   "execution_count": 14,
   "metadata": {},
   "outputs": [],
   "source": [
    "#初始化模型參數\n",
    "N = 10\n",
    "T = 2*math.pi\n",
    "alpha = 0.01\n"
   ]
  },
  {
   "cell_type": "code",
   "execution_count": 6,
   "metadata": {},
   "outputs": [
    {
     "data": {
      "image/png": "[encoded data removed]",
      "text/plain": [
       "<Figure size 432x288 with 1 Axes>"
      ]
     },
     "metadata": {
      "needs_background": "light"
     },
     "output_type": "display_data"
    }
   ],
   "source": [
    "#繪製目標函數\n",
    "x_train = []\n",
    "x_train = np.linspace(0, 10, 10000)\n",
    "\n",
    "y_train = [0 for _ in range(len(x_train))]\n",
    "for i in range(len(x_train)):\n",
    "    y_train[i] = target_function(x_train[i])\n",
    "\n",
    "plt.plot(x_train,y_train)\n",
    "plt.show()"
   ]
  },
  {
   "cell_type": "code",
   "execution_count": 7,
   "metadata": {},
   "outputs": [],
   "source": [
    "#計算a.b之真值\n",
    "a_true = [0 for _ in range(N+1)]\n",
    "b_true = [0 for _ in range(N+1)]\n",
    "\n",
    "for n in range(N):\n",
    "    \n",
    "    a_true[n] = 0 \n",
    "    \n",
    "    if n % 2 == 0:\n",
    "        b_true[n] = 0\n",
    "    else:\n",
    "        b_true[n] = 4/n/math.pi"
   ]
  },
  {
   "cell_type": "code",
   "execution_count": 33,
   "metadata": {},
   "outputs": [],
   "source": [
    "#training\n",
    "def training(x_train,y_train,N,alpha):\n",
    "\n",
    "    a = [0 for _ in range(N+1)]\n",
    "    b = [0 for _ in range(N+1)]\n",
    "    for time in range(10000):\n",
    "        index = random.randint(0,len(x_train)-1)\n",
    "        y_predict = approximation_function(x_train[index],a,b,N)\n",
    "\n",
    "        #update\n",
    "        for n in range(N+1):\n",
    "            a[n] = a[n] + alpha * (y_train[index]-y_predict)*math.cos(n*x_train[index])\n",
    "            b[n] = b[n] + alpha * (y_train[index]-y_predict)*math.sin(n*x_train[index])\n",
    "            \n",
    "    plt.plot(np.linspace(0,99999,100000),MSE_history)\n",
    "    plt.show\n",
    "    return a,b"
   ]
  },
  {
   "cell_type": "code",
   "execution_count": 9,
   "metadata": {},
   "outputs": [],
   "source": [
    "#使用model計算y_predict\n",
    "def predict(a,b,N):\n",
    "    x_train = []\n",
    "    x_train = np.linspace(0, 10, 10000)\n",
    "\n",
    "    y_predict = [0 for _ in range(len(x_train))]\n",
    "    for i in range(len(x_train)):\n",
    "        y_predict[i] = approximation_function(x_train[i],a,b,N)\n",
    "    \n",
    "    return y_predict\n"
   ]
  },
  {
   "cell_type": "code",
   "execution_count": 34,
   "metadata": {},
   "outputs": [
    {
     "ename": "KeyboardInterrupt",
     "evalue": "",
     "output_type": "error",
     "traceback": [
      "\u001b[1;31m---------------------------------------------------------------------------\u001b[0m",
      "\u001b[1;31mKeyboardInterrupt\u001b[0m                         Traceback (most recent call last)",
      "\u001b[1;32m<ipython-input-34-d4a3c726ba6e>\u001b[0m in \u001b[0;36m<module>\u001b[1;34m\u001b[0m\n\u001b[0;32m      1\u001b[0m \u001b[1;31m#(b)\u001b[0m\u001b[1;33m\u001b[0m\u001b[1;33m\u001b[0m\u001b[1;33m\u001b[0m\u001b[0m\n\u001b[1;32m----> 2\u001b[1;33m \u001b[0ma\u001b[0m\u001b[1;33m,\u001b[0m\u001b[0mb\u001b[0m \u001b[1;33m=\u001b[0m \u001b[0mtraining\u001b[0m\u001b[1;33m(\u001b[0m\u001b[0mx_train\u001b[0m\u001b[1;33m,\u001b[0m\u001b[0my_train\u001b[0m\u001b[1;33m,\u001b[0m\u001b[0mN\u001b[0m\u001b[1;33m,\u001b[0m\u001b[0malpha\u001b[0m\u001b[1;33m)\u001b[0m\u001b[1;33m\u001b[0m\u001b[1;33m\u001b[0m\u001b[0m\n\u001b[0m\u001b[0;32m      3\u001b[0m \u001b[0my_predict\u001b[0m \u001b[1;33m=\u001b[0m \u001b[0mpredict\u001b[0m\u001b[1;33m(\u001b[0m\u001b[0ma\u001b[0m\u001b[1;33m,\u001b[0m\u001b[0mb\u001b[0m\u001b[1;33m,\u001b[0m\u001b[0mN\u001b[0m\u001b[1;33m)\u001b[0m\u001b[1;33m\u001b[0m\u001b[1;33m\u001b[0m\u001b[0m\n\u001b[0;32m      4\u001b[0m \u001b[1;33m\u001b[0m\u001b[0m\n\u001b[0;32m      5\u001b[0m \u001b[1;33m\u001b[0m\u001b[0m\n",
      "\u001b[1;32m<ipython-input-33-d8888412d55d>\u001b[0m in \u001b[0;36mtraining\u001b[1;34m(x_train, y_train, N, alpha)\u001b[0m\n\u001b[0;32m     15\u001b[0m         \u001b[0mY\u001b[0m \u001b[1;33m=\u001b[0m \u001b[1;33m[\u001b[0m\u001b[1;36m0\u001b[0m \u001b[1;32mfor\u001b[0m \u001b[0m_\u001b[0m \u001b[1;32min\u001b[0m \u001b[0mrange\u001b[0m\u001b[1;33m(\u001b[0m\u001b[0mlen\u001b[0m\u001b[1;33m(\u001b[0m\u001b[0mx_train\u001b[0m\u001b[1;33m)\u001b[0m\u001b[1;33m)\u001b[0m\u001b[1;33m]\u001b[0m\u001b[1;33m\u001b[0m\u001b[1;33m\u001b[0m\u001b[0m\n\u001b[0;32m     16\u001b[0m         \u001b[1;32mfor\u001b[0m \u001b[0mi\u001b[0m \u001b[1;32min\u001b[0m \u001b[0mrange\u001b[0m\u001b[1;33m(\u001b[0m\u001b[0mlen\u001b[0m\u001b[1;33m(\u001b[0m\u001b[0mx_train\u001b[0m\u001b[1;33m)\u001b[0m\u001b[1;33m)\u001b[0m\u001b[1;33m:\u001b[0m\u001b[1;33m\u001b[0m\u001b[1;33m\u001b[0m\u001b[0m\n\u001b[1;32m---> 17\u001b[1;33m             \u001b[0mY\u001b[0m\u001b[1;33m[\u001b[0m\u001b[0mi\u001b[0m\u001b[1;33m]\u001b[0m \u001b[1;33m=\u001b[0m \u001b[0mapproximation_function\u001b[0m\u001b[1;33m(\u001b[0m\u001b[0mx_train\u001b[0m\u001b[1;33m[\u001b[0m\u001b[0mindex\u001b[0m\u001b[1;33m]\u001b[0m\u001b[1;33m,\u001b[0m\u001b[0ma\u001b[0m\u001b[1;33m,\u001b[0m\u001b[0mb\u001b[0m\u001b[1;33m,\u001b[0m\u001b[0mN\u001b[0m\u001b[1;33m)\u001b[0m\u001b[1;33m\u001b[0m\u001b[1;33m\u001b[0m\u001b[0m\n\u001b[0m\u001b[0;32m     18\u001b[0m \u001b[1;33m\u001b[0m\u001b[0m\n\u001b[0;32m     19\u001b[0m         \u001b[0mMSE_history\u001b[0m\u001b[1;33m.\u001b[0m\u001b[0mappend\u001b[0m\u001b[1;33m(\u001b[0m\u001b[0mmean_squared_error\u001b[0m\u001b[1;33m(\u001b[0m\u001b[0mY\u001b[0m\u001b[1;33m,\u001b[0m\u001b[0my_train\u001b[0m\u001b[1;33m)\u001b[0m\u001b[1;33m)\u001b[0m\u001b[1;33m\u001b[0m\u001b[1;33m\u001b[0m\u001b[0m\n",
      "\u001b[1;32m<ipython-input-3-3d5a5a38bff7>\u001b[0m in \u001b[0;36mapproximation_function\u001b[1;34m(x, a, b, N)\u001b[0m\n\u001b[0;32m      3\u001b[0m     \u001b[0msum\u001b[0m \u001b[1;33m=\u001b[0m \u001b[1;36m0\u001b[0m\u001b[1;33m\u001b[0m\u001b[1;33m\u001b[0m\u001b[0m\n\u001b[0;32m      4\u001b[0m     \u001b[1;32mfor\u001b[0m \u001b[0mn\u001b[0m \u001b[1;32min\u001b[0m \u001b[0mrange\u001b[0m\u001b[1;33m(\u001b[0m\u001b[1;36m1\u001b[0m\u001b[1;33m,\u001b[0m\u001b[0mN\u001b[0m\u001b[1;33m+\u001b[0m\u001b[1;36m1\u001b[0m\u001b[1;33m)\u001b[0m\u001b[1;33m:\u001b[0m\u001b[1;33m\u001b[0m\u001b[1;33m\u001b[0m\u001b[0m\n\u001b[1;32m----> 5\u001b[1;33m         \u001b[0msum\u001b[0m \u001b[1;33m+=\u001b[0m \u001b[0ma\u001b[0m\u001b[1;33m[\u001b[0m\u001b[0mn\u001b[0m\u001b[1;33m]\u001b[0m\u001b[1;33m*\u001b[0m\u001b[0mmath\u001b[0m\u001b[1;33m.\u001b[0m\u001b[0mcos\u001b[0m\u001b[1;33m(\u001b[0m\u001b[0mn\u001b[0m\u001b[1;33m*\u001b[0m\u001b[0mx\u001b[0m\u001b[1;33m)\u001b[0m\u001b[1;33m+\u001b[0m\u001b[0mb\u001b[0m\u001b[1;33m[\u001b[0m\u001b[0mn\u001b[0m\u001b[1;33m]\u001b[0m\u001b[1;33m*\u001b[0m\u001b[0mmath\u001b[0m\u001b[1;33m.\u001b[0m\u001b[0msin\u001b[0m\u001b[1;33m(\u001b[0m\u001b[0mn\u001b[0m\u001b[1;33m*\u001b[0m\u001b[0mx\u001b[0m\u001b[1;33m)\u001b[0m\u001b[1;33m\u001b[0m\u001b[1;33m\u001b[0m\u001b[0m\n\u001b[0m\u001b[0;32m      6\u001b[0m \u001b[1;33m\u001b[0m\u001b[0m\n\u001b[0;32m      7\u001b[0m     \u001b[0my\u001b[0m \u001b[1;33m=\u001b[0m \u001b[0ma\u001b[0m\u001b[1;33m[\u001b[0m\u001b[1;36m0\u001b[0m\u001b[1;33m]\u001b[0m \u001b[1;33m+\u001b[0m \u001b[0msum\u001b[0m\u001b[1;33m\u001b[0m\u001b[1;33m\u001b[0m\u001b[0m\n",
      "\u001b[1;31mKeyboardInterrupt\u001b[0m: "
     ]
    }
   ],
   "source": [
    "#(b)\n",
    "a,b = training(x_train,y_train,N,alpha)\n",
    "y_predict = predict(a,b,N)\n",
    "\n",
    "\n",
    "print(\"a_true= \",a_true)\n",
    "print(\"b_true= \",b_true)\n",
    "print(\"a_approx= \",a)\n",
    "print(\"b_approx= \",b)\n",
    "print(\"MSE=\",mean_squared_error(y_predict,y_train))\n"
   ]
  },
  {
   "cell_type": "code",
   "execution_count": 27,
   "metadata": {},
   "outputs": [
    {
     "data": {
      "text/plain": [
       "<function matplotlib.pyplot.show(*args, **kw)>"
      ]
     },
     "execution_count": 27,
     "metadata": {},
     "output_type": "execute_result"
    },
    {
     "data": {
      "image/png": "[encoded data removed]",
      "text/plain": [
       "<Figure size 432x288 with 1 Axes>"
      ]
     },
     "metadata": {
      "needs_background": "light"
     },
     "output_type": "display_data"
    }
   ],
   "source": [
    "#(c)\n",
    "MSE = [0,0]\n",
    "for N in range(2,20):\n",
    "    a,b = training(x_train,y_train,N,alpha)\n",
    "    y_predict = predict(a,b,N)\n",
    "    MSE.append(mean_squared_error(y_predict,y_train))\n",
    "    if N%5 == 0:\n",
    "        plt.plot(x_train,y_predict,label=\"N=\"+str(N))\n",
    "        \n",
    "plt.plot(x_train,y_train,label =\"target\")\n",
    "plt.xlabel('x')\n",
    "plt.ylabel('f(x)')\n",
    "plt.legend()\n",
    "plt.show()\n",
    "\n",
    "plt.plot(np.linspace(2,19,18),MSE[2:])\n",
    "plt.xlabel('order N')\n",
    "plt.ylabel('MSE')\n",
    "plt.title(\"order N vs. mean square error\")\n",
    "plt.show\n"
   ]
  },
  {
   "cell_type": "code",
   "execution_count": null,
   "metadata": {},
   "outputs": [],
   "source": [
    "#(d)\n",
    "MSE = []\n",
    "alpha_list = [0.1,0.09,0.08,0.07,0.06,0.05,0.04,0.03,0.02,0.01,0.009,0.008,0.007,0.006,0.005,0.004,0.003]\n",
    "for alpha in alpha_list:\n",
    "    a,b = training(x_train,y_train,N,alpha)\n",
    "    y_predict = predict(a,b,N)\n",
    "    MSE.append(mean_squared_error(y_predict,y_train))\n",
    "\n",
    "plt.plot(alpha_list,MSE)\n",
    "plt.xlabel('learning rate')\n",
    "plt.ylabel('MSE')\n",
    "plt.title(\"learning rate vs. mean square error\")\n",
    "plt.show"
   ]
  },
  {
   "cell_type": "code",
   "execution_count": 32,
   "metadata": {},
   "outputs": [
    {
     "data": {
      "image/png": "[encoded data removed]",
      "text/plain": [
       "<Figure size 432x288 with 1 Axes>"
      ]
     },
     "metadata": {
      "needs_background": "light"
     },
     "output_type": "display_data"
    }
   ],
   "source": [
    "#(e)\n",
    "#training\n",
    "def batch_training(x_train,y_train,N,alpha):\n",
    "    batch_size = 5\n",
    "    a = [0 for _ in range(N+1)]\n",
    "    b = [0 for _ in range(N+1)]\n",
    "    for time in range(100000):\n",
    "        update_a = [0 for _ in range(N+1)]\n",
    "        update_b = [0 for _ in range(N+1)]\n",
    "        for batch in range(batch_size):\n",
    "            index = random.randint(0,len(x_train)-1)\n",
    "            y_predict = approximation_function(x_train[index],a,b,N)\n",
    "            for n in range(N+1):\n",
    "                update_a[n] +=  (y_train[index]-y_predict)*math.cos(n*x_train[index])\n",
    "                update_b[n] +=  (y_train[index]-y_predict)*math.sin(n*x_train[index])\n",
    "        #update\n",
    "        for n in range(N+1):\n",
    "            a[n] = a[n] + alpha * update_a[n]\n",
    "            b[n] = b[n] + alpha * update_b[n]   \n",
    "    return a,b\n",
    "\n",
    "a,b = batch_training(x_train,y_train,N,alpha)\n",
    "y_predict = predict(a,b,N)\n",
    "plt.plot(x_train,y_predict)\n",
    "plt.show()"
   ]
  },
  {
   "cell_type": "code",
   "execution_count": null,
   "metadata": {},
   "outputs": [],
   "source": []
  },
  {
   "cell_type": "code",
   "execution_count": null,
   "metadata": {},
   "outputs": [],
   "source": []
  }
 ],
 "metadata": {
  "kernelspec": {
   "display_name": "Python 3",
   "language": "python",
   "name": "python3"
  },
  "language_info": {
   "codemirror_mode": {
    "name": "ipython",
    "version": 3
   },
   "file_extension": ".py",
   "mimetype": "text/x-python",
   "name": "python",
   "nbconvert_exporter": "python",
   "pygments_lexer": "ipython3",
   "version": "3.7.4"
  }
 },
 "nbformat": 4,
 "nbformat_minor": 2
}
